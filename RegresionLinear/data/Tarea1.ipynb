{
 "cells": [
  {
   "cell_type": "markdown",
   "id": "a0a3d654",
   "metadata": {},
   "source": [
    "# UNIVERSIDAD NACIONAL AUTONOMA DE MÉXICO\n",
    "\n",
    "## FACULTAD DE ESTUDIOS SUPERIORES ARAGÓN\n",
    "\n",
    "## INGENIERIA EN COMPUTACIÓN\n",
    "\n",
    "## MINERIA DE DATOS\n",
    "## ALUMNOS:\n",
    "* DOMINGUEZ VILLALOBOS RICARDO\n",
    "* DUARTE GUTIERREZ RODRIGO YAEL"
   ]
  },
  {
   "cell_type": "code",
   "execution_count": null,
   "id": "1b007e89",
   "metadata": {
    "vscode": {
     "languageId": "plaintext"
    }
   },
   "outputs": [],
   "source": [
    "import pandas as pd"
   ]
  }
 ],
 "metadata": {
  "language_info": {
   "name": "python"
  }
 },
 "nbformat": 4,
 "nbformat_minor": 5
}
